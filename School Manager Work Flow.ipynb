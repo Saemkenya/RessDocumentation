{
 "cells": [
  {
   "cell_type": "markdown",
   "metadata": {},
   "source": [
    "<a id=\"manager\"></a>\n",
    "# <center>School Manager Workflow</center>\n",
    "The school manager role is recommended for the school owner because of how much information about the school can be accessed.\n",
    "The school manager can view, edit, delete or add new each of the following items."
   ]
  },
  {
   "cell_type": "markdown",
   "metadata": {},
   "source": [
    "<a id=\"contents\"></a>\n",
    "## <center>Table Of Contents</center>\n",
    "* [School Manager Workflow](#manager)\n",
    "* [Table Of Contents](#content)\n",
    "* [ - Ress Admins](#admin)\n",
    "* [ - Accountants](#accountant)\n",
    "* [ - Librarians](#librarian)\n",
    "* [ - Tutors](#tutor)\n",
    "* [ - Guardians](#parent)\n",
    "* [ - Students](#student)\n",
    "* [ - Payments](#payment)\n",
    "* [ - Fees Structure](#fee)\n",
    "* [ - Subjects](#subject)\n",
    "* [ - Lessons](#lesson)\n",
    "* [ - Time Table](#timetable)\n",
    "* [ - Books](#book)\n",
    "* [ - Book lends](#lend)\n",
    "* [ - Examinations](#exam)\n",
    "* [ - Attendance](#attendance)\n",
    "* [ - Suggestion Box](#suggestion)\n",
    "* [ - Send Notifications](#notification)\n",
    "* [ - Send SMS](#sms)\n",
    "* [ - Baby Class](#baby)\n",
    "* [ - Pre-Primary One](#pp1)\n",
    "* [ - Pre-Primary Two](#pp2)\n",
    "* [ - First Grade](#g1)\n",
    "* [ - Second Grade](#g2)\n",
    "* [ - Third Grade](#g3)\n",
    "* [ - 3D Math Activities](#math)\n",
    "* [ - 3D Drawing Book](#draw)\n",
    "* [ - 3D Language Activities](#word)\n",
    "* [ - Visitors Book](#visitor)\n",
    "* [ - Choice Master](#choice)"
   ]
  },
  {
   "cell_type": "markdown",
   "metadata": {},
   "source": [
    "<a id=\"admin\"></a>\n",
    "### <center>1. RESS admin </center>\n",
    "    This is the official caretaker of the system and he operates the RESS booth present offline in the school."
   ]
  },
  {
   "cell_type": "markdown",
   "metadata": {},
   "source": [
    "<a id=\"accountant\"></a>\n",
    "### <center>2. Accountant </center>\n",
    "    Accountant role for the conventional school burser role"
   ]
  },
  {
   "cell_type": "markdown",
   "metadata": {},
   "source": [
    "<a id=\"librarian\"></a>\n",
    "### <center>3. Librarian </center>\n",
    "    The school book keeper"
   ]
  },
  {
   "cell_type": "markdown",
   "metadata": {},
   "source": [
    "<a id=\"tutor\"></a>\n",
    "### <center>3. Tutor </center>\n",
    "    A teacher in the school "
   ]
  },
  {
   "cell_type": "markdown",
   "metadata": {},
   "source": [
    "<a id=\"parent\"></a>\n",
    "### <center>4. Guardian/ Parent</center>\n",
    "    A guardian to one of any students represented in the system(many2many r/ship)\n",
    "    A guardian can have multiple students and a student can have multiple guardians\n",
    "    The guardian list can be further filtered to show guardians by each grade."
   ]
  },
  {
   "cell_type": "markdown",
   "metadata": {},
   "source": [
    "<a id=\"student\"></a>\n",
    "### <center>5. Student </center>\n",
    "    A student in the school who should have:\n",
    "    a) A guardian representation in the system\n",
    "    b) Belong to only one grade at any time"
   ]
  },
  {
   "cell_type": "markdown",
   "metadata": {},
   "source": [
    "<a id=\"payment\"></a>\n",
    "### <center>6. Payments </center>\n",
    "    The school manager can view payments both confirmed and pending.\n",
    "    View payment history of each student, guardian, grade or the entire school\n",
    "    Deposit payment for any of the students by the following methods\n",
    "    a) safaricom mPesa direct pay to the school account\n",
    "    b) equitel payment from equitel simcard\n",
    "    c) visa payment directly to the school bank account"
   ]
  },
  {
   "cell_type": "markdown",
   "metadata": {},
   "source": [
    "<a id=\"fee\"></a>\n",
    "### <center>7. Fees Structure </center>\n",
    "    School manager role has full read/write access to the school fees structure as represented in the system.\n",
    "    The fees structure is public to guardians for viewing only"
   ]
  },
  {
   "cell_type": "markdown",
   "metadata": {},
   "source": [
    "<a id=\"subject\"></a>\n",
    "### <center>8. Subjects </center>\n",
    "    Subjects can be created, viewed or edited by the school manager too."
   ]
  },
  {
   "cell_type": "markdown",
   "metadata": {},
   "source": [
    "<a id=\"lesson\"></a>\n",
    "### <center>9. Lessons </center>\n",
    "    Lessons are entered into the system by your appointed RESS admin. The school staff should present a proposed copy of the timetable containing current lessons as to be accessed in the system"
   ]
  },
  {
   "cell_type": "markdown",
   "metadata": {},
   "source": [
    "<a id=\"timetable\"></a>\n",
    "### <center>10. Timetable </center>\n",
    "    Allocations to lessons can be done on the timetable, the following can be allocated\n",
    "    a) Date and Time for the lesson\n",
    "    b) Duration\n",
    "    c) Tutor\n",
    "    d) Subject\n",
    "    e) Topic and\n",
    "    f) Remarks\n",
    "    g) Done for showing if the lesson happened"
   ]
  },
  {
   "cell_type": "markdown",
   "metadata": {},
   "source": [
    "<a id=\"book\"></a>\n",
    "### <center>11. Books </center>\n",
    "    All books that are property of the school get an RFID strip tag for monitoring. The tags contain information about the book and it's current holder defaulting to \"Library\" when not in lending."
   ]
  },
  {
   "cell_type": "markdown",
   "metadata": {},
   "source": [
    "<a id=\"lend\"></a>\n",
    "### <center>12. Lendings </center>\n",
    "    This is a track of the book's lending history whereby the current holder is the last in the list. The history is available in the system server."
   ]
  },
  {
   "cell_type": "markdown",
   "metadata": {},
   "source": [
    "<a id=\"exam\"></a>\n",
    "### <center>13. Examinations </center>\n",
    "    This is the examination time table showing all posted exams, completed and those in the future. Completed exams show avarage results of the class that took the exam. Results can be expounded upon to realize each students result for each subject or grade average for each subject."
   ]
  },
  {
   "cell_type": "markdown",
   "metadata": {},
   "source": [
    "<a id=\"attendance\"></a>\n",
    "### <center>14. Attendance </center>\n",
    "    In RESS attendance is calculated per lesson allowing the system to do some sophisticated calculation based on a Machine Learning Model. Attendance can therefore be representated upto hours spent inside of the class and those outside of the class instead of the old model off school attendance recording the whole day as \"present\" or \"absent\"."
   ]
  },
  {
   "cell_type": "markdown",
   "metadata": {},
   "source": [
    "<a id=\"suggestion\"></a>\n",
    "### <center>15. Suggestion Box </center>\n",
    "    Suggestion box messages from guardians are showed here and can be replied to on per sender basis"
   ]
  },
  {
   "cell_type": "markdown",
   "metadata": {},
   "source": [
    "<a id=\"notification\"></a>\n",
    "### <center>16. Send Notifications </center>\n",
    "    The school manager can choose to send notifications to either the entire school fraternity, parents, tutors, accountants, librarian or a section of the school, like Second Grade guardians only etc.\n",
    "    Guardian specific messages should be a thread in the suggestion box."
   ]
  },
  {
   "cell_type": "markdown",
   "metadata": {},
   "source": [
    "<a id=\"sms\"></a>\n",
    "### <center>17. Send SMS </center>\n",
    "    This is probably the only externally paid service, to send text messages you will need to top-up your sms account and select your recipients."
   ]
  },
  {
   "cell_type": "markdown",
   "metadata": {},
   "source": [
    "<a id=\"baby\"></a>\n",
    "### <center>18. Baby Class </center>\n",
    "    All information about the baby class grade in your school as you may want public for guardians in the system"
   ]
  },
  {
   "cell_type": "markdown",
   "metadata": {},
   "source": [
    "<a id=\"pp1\"></a>\n",
    "### <center>19. Pre-Primary One </center>\n",
    "    All information about the pre-primary one grade in your school as you may want public for guardians in the system"
   ]
  },
  {
   "cell_type": "markdown",
   "metadata": {},
   "source": [
    "<a id=\"pp2\"></a>\n",
    "### <center>20. Pre-Primary Two </center>\n",
    "    All information about the pre-primary two grade in your school as you may want public for guardians in the system"
   ]
  },
  {
   "cell_type": "markdown",
   "metadata": {},
   "source": [
    "<a id=\"g1\"></a>\n",
    "### <center>21. First Grade </center>\n",
    "    All information about the first grade in your school as you may want public for guardians in the system"
   ]
  },
  {
   "cell_type": "markdown",
   "metadata": {},
   "source": [
    "<a id=\"g2\"></a>\n",
    "### <center>22. Second Grade </center>\n",
    "    All information about the second grade in your school as you may want public for guardians in the system"
   ]
  },
  {
   "cell_type": "markdown",
   "metadata": {},
   "source": [
    "<a id=\"g3\"></a>\n",
    "### <center>23. Third Grade </center>\n",
    "    All information about the third grade in your school as you may want public for guardians in the system"
   ]
  },
  {
   "cell_type": "markdown",
   "metadata": {},
   "source": [
    "<a id=\"math\"></a>\n",
    "### <center>24. 3 Dimension Math Activities </center>\n",
    "    [ Mobile Only ]\n",
    "    This portion has been given to Augmented Reality to help students enjoy and interact with mathematics."
   ]
  },
  {
   "cell_type": "markdown",
   "metadata": {},
   "source": [
    "<a id=\"draw\"></a>\n",
    "### <center>25. 3 Dimension Drawing Book </center>\n",
    "    [ Mobile Only ]\n",
    "    Uses Augmented Reality to offer 3 Dimension shading of available models."
   ]
  },
  {
   "cell_type": "markdown",
   "metadata": {},
   "source": [
    "<a id=\"word\"></a>\n",
    "### <center>26. 3 Dimension Name Dictionary </center>\n",
    "    [ Mobile Only ]\n",
    "    Still uses augmented reality to portray a 3 dimension object with the querried name on the mobile applications."
   ]
  },
  {
   "cell_type": "markdown",
   "metadata": {},
   "source": [
    "<a id=\"visitor\"></a>\n",
    "### <center>27. Visitors Book </center>\n",
    "    The visitors book is a simple form filled at the RESS booth by any incoming school visitor, from parents to other official visitors. This information is passed to the school manager instantly as a new notification."
   ]
  },
  {
   "cell_type": "markdown",
   "metadata": {},
   "source": [
    "<a id=\"choice\"></a>\n",
    "### <center>28. Choice Master </center>\n",
    "    A simple game in either single player or multi-player mode for all roles except students. The game is implemented using the conventional Rock Paper Scissor game so you basically make a choice and observe the consequences. :)"
   ]
  }
 ],
 "metadata": {
  "kernelspec": {
   "display_name": "Python 3",
   "language": "python",
   "name": "python3"
  },
  "language_info": {
   "codemirror_mode": {
    "name": "ipython",
    "version": 3
   },
   "file_extension": ".py",
   "mimetype": "text/x-python",
   "name": "python",
   "nbconvert_exporter": "python",
   "pygments_lexer": "ipython3",
   "version": "3.6.7"
  }
 },
 "nbformat": 4,
 "nbformat_minor": 2
}
